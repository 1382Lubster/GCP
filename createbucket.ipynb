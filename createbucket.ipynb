from google.colab import auth
auth.authenticate_user()
project_id = 'Projectid'
!gcloud config set project {project_id}
# You can find the full reference here: https://cloud.google.com/storage/docs/gsutil/commands/mb
bucket_name = 'raw-data-ingest'
!gsutil mb gs://{bucket_name}