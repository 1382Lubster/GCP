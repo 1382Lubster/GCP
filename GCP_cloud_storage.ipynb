{
  "nbformat": 4,
  "nbformat_minor": 0,
  "metadata": {
    "colab": {
      "provenance": [],
      "authorship_tag": "ABX9TyMmPMHAQqfKILBXISfy+uwr",
      "include_colab_link": true
    },
    "kernelspec": {
      "name": "python3",
      "display_name": "Python 3"
    },
    "language_info": {
      "name": "python"
    }
  },
  "cells": [
    {
      "cell_type": "markdown",
      "metadata": {
        "id": "view-in-github",
        "colab_type": "text"
      },
      "source": [
        "<a href=\"https://colab.research.google.com/github/1382Lubster/GCP/blob/main/GCP_cloud_storage.ipynb\" target=\"_parent\"><img src=\"https://colab.research.google.com/assets/colab-badge.svg\" alt=\"Open In Colab\"/></a>"
      ]
    },
    {
      "cell_type": "markdown",
      "source": [
        "## Authenticate user"
      ],
      "metadata": {
        "id": "7z8sa2FjsSSp"
      }
    },
    {
      "cell_type": "code",
      "execution_count": null,
      "metadata": {
        "id": "z7HALrkMm3St"
      },
      "outputs": [],
      "source": [
        "from google.colab import auth\n",
        "auth.authenticate_user()"
      ]
    },
    {
      "cell_type": "markdown",
      "source": [
        "## Set up connection with GCP using project id"
      ],
      "metadata": {
        "id": "obXo24QqsWpW"
      }
    },
    {
      "cell_type": "code",
      "source": [
        "from google.colab import auth\n",
        "auth.authenticate_user()\n",
        "project_id = 'Projectid'\n",
        "!gcloud config set project {project_id}"
      ],
      "metadata": {
        "colab": {
          "base_uri": "https://localhost:8080/"
        },
        "id": "PVuxPKwfnesI",
        "outputId": "9fb026d5-dbca-402c-c924-bb9d1a3377ec"
      },
      "execution_count": null,
      "outputs": [
        {
          "output_type": "stream",
          "name": "stdout",
          "text": [
            "Updated property [core/project].\n"
          ]
        }
      ]
    },
    {
      "cell_type": "markdown",
      "source": [
        "# Create a storage bucket using explicit bucket name\n",
        "To better understand naming conventions and accepted formats, read: https://cloud.google.com/storage/docs/buckets?_ga=2.149156022.-1693379440.1677530658#naming"
      ],
      "metadata": {
        "id": "9-JOcU3PoQE4"
      }
    },
    {
      "cell_type": "code",
      "source": [
        "# You can find the full reference here: https://cloud.google.com/storage/docs/gsutil/commands/mb\n",
        "bucket_name = 'raw-data-ingest'\n",
        "!gsutil mb gs://{bucket_name}"
      ],
      "metadata": {
        "colab": {
          "base_uri": "https://localhost:8080/"
        },
        "id": "CARKSmJzn9N5",
        "outputId": "93b07ddd-5f44-4d19-e6a0-55dad07d1aec"
      },
      "execution_count": null,
      "outputs": [
        {
          "output_type": "stream",
          "name": "stdout",
          "text": [
            "Creating gs://raw-data-ingest/...\n"
          ]
        }
      ]
    },
    {
      "cell_type": "code",
      "source": [],
      "metadata": {
        "id": "sxfsi1UAoWy5"
      },
      "execution_count": 10,
      "outputs": []
    },
    {
      "cell_type": "code",
      "source": [],
      "metadata": {
        "id": "gyTi-VBYt3Kn"
      },
      "execution_count": 10,
      "outputs": []
    },
    {
      "cell_type": "code",
      "source": [],
      "metadata": {
        "id": "ZVDgHMlWt7jA"
      },
      "execution_count": 10,
      "outputs": []
    },
    {
      "cell_type": "code",
      "source": [],
      "metadata": {
        "id": "6V4gahswt-4f"
      },
      "execution_count": null,
      "outputs": []
    }
  ]
}